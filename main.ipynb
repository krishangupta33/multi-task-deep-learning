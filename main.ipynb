{
 "cells": [
  {
   "cell_type": "code",
   "execution_count": 2,
   "metadata": {},
   "outputs": [],
   "source": [
    "import pandas as pd\n",
    "import numpy as np\n",
    "import matplotlib.pyplot as plt\n",
    "from sklearn.metrics import accuracy_score, precision_score, recall_score, f1_score"
   ]
  },
  {
   "cell_type": "markdown",
   "metadata": {},
   "source": [
    "### 1. Data Exploration and Preprocessing: \n",
    "Understand your data. Handle missing values, encode categorical variables, and normalize numerical variables."
   ]
  },
  {
   "cell_type": "code",
   "execution_count": 3,
   "metadata": {},
   "outputs": [
    {
     "name": "stdout",
     "output_type": "stream",
     "text": [
      "(1460, 81)\n"
     ]
    },
    {
     "data": {
      "text/html": [
       "<div>\n",
       "<style scoped>\n",
       "    .dataframe tbody tr th:only-of-type {\n",
       "        vertical-align: middle;\n",
       "    }\n",
       "\n",
       "    .dataframe tbody tr th {\n",
       "        vertical-align: top;\n",
       "    }\n",
       "\n",
       "    .dataframe thead th {\n",
       "        text-align: right;\n",
       "    }\n",
       "</style>\n",
       "<table border=\"1\" class=\"dataframe\">\n",
       "  <thead>\n",
       "    <tr style=\"text-align: right;\">\n",
       "      <th></th>\n",
       "      <th>Id</th>\n",
       "      <th>MSSubClass</th>\n",
       "      <th>MSZoning</th>\n",
       "      <th>LotFrontage</th>\n",
       "      <th>LotArea</th>\n",
       "      <th>Street</th>\n",
       "      <th>Alley</th>\n",
       "      <th>LotShape</th>\n",
       "      <th>LandContour</th>\n",
       "      <th>Utilities</th>\n",
       "      <th>...</th>\n",
       "      <th>PoolArea</th>\n",
       "      <th>PoolQC</th>\n",
       "      <th>Fence</th>\n",
       "      <th>MiscFeature</th>\n",
       "      <th>MiscVal</th>\n",
       "      <th>MoSold</th>\n",
       "      <th>YrSold</th>\n",
       "      <th>SaleType</th>\n",
       "      <th>SaleCondition</th>\n",
       "      <th>SalePrice</th>\n",
       "    </tr>\n",
       "  </thead>\n",
       "  <tbody>\n",
       "    <tr>\n",
       "      <th>0</th>\n",
       "      <td>1</td>\n",
       "      <td>60</td>\n",
       "      <td>RL</td>\n",
       "      <td>65.0</td>\n",
       "      <td>8450</td>\n",
       "      <td>Pave</td>\n",
       "      <td>NaN</td>\n",
       "      <td>Reg</td>\n",
       "      <td>Lvl</td>\n",
       "      <td>AllPub</td>\n",
       "      <td>...</td>\n",
       "      <td>0</td>\n",
       "      <td>NaN</td>\n",
       "      <td>NaN</td>\n",
       "      <td>NaN</td>\n",
       "      <td>0</td>\n",
       "      <td>2</td>\n",
       "      <td>2008</td>\n",
       "      <td>WD</td>\n",
       "      <td>Normal</td>\n",
       "      <td>208500</td>\n",
       "    </tr>\n",
       "    <tr>\n",
       "      <th>1</th>\n",
       "      <td>2</td>\n",
       "      <td>20</td>\n",
       "      <td>RL</td>\n",
       "      <td>80.0</td>\n",
       "      <td>9600</td>\n",
       "      <td>Pave</td>\n",
       "      <td>NaN</td>\n",
       "      <td>Reg</td>\n",
       "      <td>Lvl</td>\n",
       "      <td>AllPub</td>\n",
       "      <td>...</td>\n",
       "      <td>0</td>\n",
       "      <td>NaN</td>\n",
       "      <td>NaN</td>\n",
       "      <td>NaN</td>\n",
       "      <td>0</td>\n",
       "      <td>5</td>\n",
       "      <td>2007</td>\n",
       "      <td>WD</td>\n",
       "      <td>Normal</td>\n",
       "      <td>181500</td>\n",
       "    </tr>\n",
       "    <tr>\n",
       "      <th>2</th>\n",
       "      <td>3</td>\n",
       "      <td>60</td>\n",
       "      <td>RL</td>\n",
       "      <td>68.0</td>\n",
       "      <td>11250</td>\n",
       "      <td>Pave</td>\n",
       "      <td>NaN</td>\n",
       "      <td>IR1</td>\n",
       "      <td>Lvl</td>\n",
       "      <td>AllPub</td>\n",
       "      <td>...</td>\n",
       "      <td>0</td>\n",
       "      <td>NaN</td>\n",
       "      <td>NaN</td>\n",
       "      <td>NaN</td>\n",
       "      <td>0</td>\n",
       "      <td>9</td>\n",
       "      <td>2008</td>\n",
       "      <td>WD</td>\n",
       "      <td>Normal</td>\n",
       "      <td>223500</td>\n",
       "    </tr>\n",
       "    <tr>\n",
       "      <th>3</th>\n",
       "      <td>4</td>\n",
       "      <td>70</td>\n",
       "      <td>RL</td>\n",
       "      <td>60.0</td>\n",
       "      <td>9550</td>\n",
       "      <td>Pave</td>\n",
       "      <td>NaN</td>\n",
       "      <td>IR1</td>\n",
       "      <td>Lvl</td>\n",
       "      <td>AllPub</td>\n",
       "      <td>...</td>\n",
       "      <td>0</td>\n",
       "      <td>NaN</td>\n",
       "      <td>NaN</td>\n",
       "      <td>NaN</td>\n",
       "      <td>0</td>\n",
       "      <td>2</td>\n",
       "      <td>2006</td>\n",
       "      <td>WD</td>\n",
       "      <td>Abnorml</td>\n",
       "      <td>140000</td>\n",
       "    </tr>\n",
       "    <tr>\n",
       "      <th>4</th>\n",
       "      <td>5</td>\n",
       "      <td>60</td>\n",
       "      <td>RL</td>\n",
       "      <td>84.0</td>\n",
       "      <td>14260</td>\n",
       "      <td>Pave</td>\n",
       "      <td>NaN</td>\n",
       "      <td>IR1</td>\n",
       "      <td>Lvl</td>\n",
       "      <td>AllPub</td>\n",
       "      <td>...</td>\n",
       "      <td>0</td>\n",
       "      <td>NaN</td>\n",
       "      <td>NaN</td>\n",
       "      <td>NaN</td>\n",
       "      <td>0</td>\n",
       "      <td>12</td>\n",
       "      <td>2008</td>\n",
       "      <td>WD</td>\n",
       "      <td>Normal</td>\n",
       "      <td>250000</td>\n",
       "    </tr>\n",
       "  </tbody>\n",
       "</table>\n",
       "<p>5 rows × 81 columns</p>\n",
       "</div>"
      ],
      "text/plain": [
       "   Id  MSSubClass MSZoning  LotFrontage  LotArea Street Alley LotShape  \\\n",
       "0   1          60       RL         65.0     8450   Pave   NaN      Reg   \n",
       "1   2          20       RL         80.0     9600   Pave   NaN      Reg   \n",
       "2   3          60       RL         68.0    11250   Pave   NaN      IR1   \n",
       "3   4          70       RL         60.0     9550   Pave   NaN      IR1   \n",
       "4   5          60       RL         84.0    14260   Pave   NaN      IR1   \n",
       "\n",
       "  LandContour Utilities  ... PoolArea PoolQC Fence MiscFeature MiscVal MoSold  \\\n",
       "0         Lvl    AllPub  ...        0    NaN   NaN         NaN       0      2   \n",
       "1         Lvl    AllPub  ...        0    NaN   NaN         NaN       0      5   \n",
       "2         Lvl    AllPub  ...        0    NaN   NaN         NaN       0      9   \n",
       "3         Lvl    AllPub  ...        0    NaN   NaN         NaN       0      2   \n",
       "4         Lvl    AllPub  ...        0    NaN   NaN         NaN       0     12   \n",
       "\n",
       "  YrSold  SaleType  SaleCondition  SalePrice  \n",
       "0   2008        WD         Normal     208500  \n",
       "1   2007        WD         Normal     181500  \n",
       "2   2008        WD         Normal     223500  \n",
       "3   2006        WD        Abnorml     140000  \n",
       "4   2008        WD         Normal     250000  \n",
       "\n",
       "[5 rows x 81 columns]"
      ]
     },
     "execution_count": 3,
     "metadata": {},
     "output_type": "execute_result"
    }
   ],
   "source": [
    "df = pd.read_csv(\"data/train.csv\")\n",
    "\n",
    "print(df.shape)\n",
    "df.head()"
   ]
  },
  {
   "cell_type": "code",
   "execution_count": 4,
   "metadata": {},
   "outputs": [
    {
     "name": "stdout",
     "output_type": "stream",
     "text": [
      "LotFrontage      259\n",
      "Alley           1369\n",
      "MasVnrType       872\n",
      "MasVnrArea         8\n",
      "BsmtQual          37\n",
      "BsmtCond          37\n",
      "BsmtExposure      38\n",
      "BsmtFinType1      37\n",
      "BsmtFinType2      38\n",
      "Electrical         1\n",
      "FireplaceQu      690\n",
      "GarageType        81\n",
      "GarageYrBlt       81\n",
      "GarageFinish      81\n",
      "GarageQual        81\n",
      "GarageCond        81\n",
      "PoolQC          1453\n",
      "Fence           1179\n",
      "MiscFeature     1406\n",
      "dtype: int64\n",
      "LotFrontage     17.739726\n",
      "Alley           93.767123\n",
      "MasVnrType      59.726027\n",
      "MasVnrArea       0.547945\n",
      "BsmtQual         2.534247\n",
      "BsmtCond         2.534247\n",
      "BsmtExposure     2.602740\n",
      "BsmtFinType1     2.534247\n",
      "BsmtFinType2     2.602740\n",
      "Electrical       0.068493\n",
      "FireplaceQu     47.260274\n",
      "GarageType       5.547945\n",
      "GarageYrBlt      5.547945\n",
      "GarageFinish     5.547945\n",
      "GarageQual       5.547945\n",
      "GarageCond       5.547945\n",
      "PoolQC          99.520548\n",
      "Fence           80.753425\n",
      "MiscFeature     96.301370\n",
      "dtype: float64\n"
     ]
    }
   ],
   "source": [
    "#check null values and print only which have null values\n",
    "print(df.isnull().sum()[df.isnull().sum() > 0])\n",
    "\n",
    "#print % of missing values in each column\n",
    "print(df.isnull().mean()[df.isnull().sum() > 0] * 100)\n",
    "\n"
   ]
  },
  {
   "cell_type": "code",
   "execution_count": 5,
   "metadata": {},
   "outputs": [
    {
     "name": "stdout",
     "output_type": "stream",
     "text": [
      "LotFrontage     17.739726\n",
      "MasVnrArea       0.547945\n",
      "BsmtQual         2.534247\n",
      "BsmtCond         2.534247\n",
      "BsmtExposure     2.602740\n",
      "BsmtFinType1     2.534247\n",
      "BsmtFinType2     2.602740\n",
      "Electrical       0.068493\n",
      "GarageType       5.547945\n",
      "GarageYrBlt      5.547945\n",
      "GarageFinish     5.547945\n",
      "GarageQual       5.547945\n",
      "GarageCond       5.547945\n",
      "dtype: float64\n"
     ]
    }
   ],
   "source": [
    "# dropping cols with missing values > 40%\n",
    "cols_to_drop = df.columns[df.isnull().mean() > 0.4]\n",
    "df = df.drop(cols_to_drop, axis=1)\n",
    "#print % of missing values in each column\n",
    "print(df.isnull().mean()[df.isnull().sum() > 0] * 100)"
   ]
  },
  {
   "cell_type": "code",
   "execution_count": 6,
   "metadata": {},
   "outputs": [
    {
     "name": "stdout",
     "output_type": "stream",
     "text": [
      "LotFrontage     float64\n",
      "MasVnrArea      float64\n",
      "BsmtQual         object\n",
      "BsmtCond         object\n",
      "BsmtExposure     object\n",
      "BsmtFinType1     object\n",
      "BsmtFinType2     object\n",
      "Electrical       object\n",
      "GarageType       object\n",
      "GarageYrBlt     float64\n",
      "GarageFinish     object\n",
      "GarageQual       object\n",
      "GarageCond       object\n",
      "dtype: object\n",
      "Series([], dtype: float64)\n"
     ]
    }
   ],
   "source": [
    "cols_to_impute = df.columns[df.isnull().mean() > 0]\n",
    "\n",
    "#check col types\n",
    "print(df[cols_to_impute].dtypes)\n",
    "\n",
    "#impute float cols with mean and object cols with mode\n",
    "for col in cols_to_impute:\n",
    "    if df[col].dtype == 'float64':\n",
    "        df[col] = df[col].fillna(df[col].mean())\n",
    "    else:\n",
    "        df[col] = df[col].fillna(df[col].mode()[0])\n",
    "\n",
    "print(df.isnull().mean()[df.isnull().sum() > 0] * 100)\n",
    "\n"
   ]
  },
  {
   "cell_type": "code",
   "execution_count": 7,
   "metadata": {},
   "outputs": [
    {
     "name": "stdout",
     "output_type": "stream",
     "text": [
      "Index(['Id', 'MSSubClass', 'MSZoning', 'LotFrontage', 'LotArea', 'Street',\n",
      "       'LotShape', 'LandContour', 'Utilities', 'LotConfig', 'LandSlope',\n",
      "       'Neighborhood', 'Condition1', 'Condition2', 'BldgType', 'HouseStyle',\n",
      "       'OverallQual', 'OverallCond', 'YearBuilt', 'YearRemodAdd', 'RoofStyle',\n",
      "       'RoofMatl', 'Exterior1st', 'Exterior2nd', 'MasVnrArea', 'ExterQual',\n",
      "       'ExterCond', 'Foundation', 'BsmtQual', 'BsmtCond', 'BsmtExposure',\n",
      "       'BsmtFinType1', 'BsmtFinSF1', 'BsmtFinType2', 'BsmtFinSF2', 'BsmtUnfSF',\n",
      "       'TotalBsmtSF', 'Heating', 'HeatingQC', 'CentralAir', 'Electrical',\n",
      "       '1stFlrSF', '2ndFlrSF', 'LowQualFinSF', 'GrLivArea', 'BsmtFullBath',\n",
      "       'BsmtHalfBath', 'FullBath', 'HalfBath', 'BedroomAbvGr', 'KitchenAbvGr',\n",
      "       'KitchenQual', 'TotRmsAbvGrd', 'Functional', 'Fireplaces', 'GarageType',\n",
      "       'GarageYrBlt', 'GarageFinish', 'GarageCars', 'GarageArea', 'GarageQual',\n",
      "       'GarageCond', 'PavedDrive', 'WoodDeckSF', 'OpenPorchSF',\n",
      "       'EnclosedPorch', '3SsnPorch', 'ScreenPorch', 'PoolArea', 'MiscVal',\n",
      "       'MoSold', 'YrSold', 'SaleType', 'SaleCondition', 'SalePrice'],\n",
      "      dtype='object')\n"
     ]
    }
   ],
   "source": [
    "#print all col names\n",
    "print(df.columns)"
   ]
  },
  {
   "cell_type": "code",
   "execution_count": 8,
   "metadata": {},
   "outputs": [],
   "source": [
    "# #count plots\n",
    "# for col in df.columns:\n",
    "#     if df[col].dtype == 'object':\n",
    "#         plt.figure()\n",
    "#         df[col].value_counts().plot.bar()\n",
    "#         plt.title(col)\n",
    "#         plt.show()\n"
   ]
  },
  {
   "cell_type": "markdown",
   "metadata": {},
   "source": [
    "You will create a new variable 'House Category' based on 'House Style', 'Bldg Type', 'Year Built', and 'Year Remod/Add' for the classification task."
   ]
  },
  {
   "cell_type": "code",
   "execution_count": 9,
   "metadata": {},
   "outputs": [
    {
     "name": "stdout",
     "output_type": "stream",
     "text": [
      "HouseStyle      object\n",
      "BldgType        object\n",
      "YearBuilt        int64\n",
      "YearRemodAdd     int64\n",
      "dtype: object\n",
      "HouseStyle\n",
      "['2Story' '1Story' '1.5Fin' '1.5Unf' 'SFoyer' 'SLvl' '2.5Unf' '2.5Fin']\n",
      "BldgType\n",
      "['1Fam' '2fmCon' 'Duplex' 'TwnhsE' 'Twnhs']\n",
      "YearBuilt\n",
      "[2003 1976 2001 1915 2000 1993 2004 1973 1931 1939 1965 2005 1962 2006\n",
      " 1960 1929 1970 1967 1958 1930 2002 1968 2007 1951 1957 1927 1920 1966\n",
      " 1959 1994 1954 1953 1955 1983 1975 1997 1934 1963 1981 1964 1999 1972\n",
      " 1921 1945 1982 1998 1956 1948 1910 1995 1991 2009 1950 1961 1977 1985\n",
      " 1979 1885 1919 1990 1969 1935 1988 1971 1952 1936 1923 1924 1984 1926\n",
      " 1940 1941 1987 1986 2008 1908 1892 1916 1932 1918 1912 1947 1925 1900\n",
      " 1980 1989 1992 1949 1880 1928 1978 1922 1996 2010 1946 1913 1937 1942\n",
      " 1938 1974 1893 1914 1906 1890 1898 1904 1882 1875 1911 1917 1872 1905]\n",
      "YearRemodAdd\n",
      "[2003 1976 2002 1970 2000 1995 2005 1973 1950 1965 2006 1962 2007 1960\n",
      " 2001 1967 2004 2008 1997 1959 1990 1955 1983 1980 1966 1963 1987 1964\n",
      " 1972 1996 1998 1989 1953 1956 1968 1981 1992 2009 1982 1961 1993 1999\n",
      " 1985 1979 1977 1969 1958 1991 1971 1952 1975 2010 1984 1986 1994 1988\n",
      " 1954 1957 1951 1978 1974]\n"
     ]
    }
   ],
   "source": [
    "cols_for_category = [\"HouseStyle\",\"BldgType\",\"YearBuilt\",\"YearRemodAdd\"]\n",
    "\n",
    "#data types of cols\n",
    "print(df[cols_for_category].dtypes)\n",
    "\n",
    "#display unique values in each col\n",
    "for col in cols_for_category:\n",
    "    print(col)\n",
    "    print(df[col].unique())\n",
    "\n"
   ]
  },
  {
   "cell_type": "markdown",
   "metadata": {},
   "source": [
    "## Creating Categories from \n",
    "- House Style\n",
    "- Bldg Type\n",
    "- Year Built\n",
    "- Year Remod/Add"
   ]
  },
  {
   "cell_type": "code",
   "execution_count": 10,
   "metadata": {},
   "outputs": [],
   "source": [
    "# Define category mapping\n",
    "def categorize(row):\n",
    "    if row['YearBuilt'] >= 1990 or row['YearRemodAdd'] >= 1990:\n",
    "        era = 'Modern'\n",
    "    elif row['YearBuilt'] < 1950 and row['YearRemodAdd'] < 1975:\n",
    "        era = 'Historic'\n",
    "    else:\n",
    "        era = 'Mid-Century'\n",
    "\n",
    "    if 'Twnhs' in row['BldgType']:\n",
    "        type_ = 'Townhouse'\n",
    "    elif row['BldgType'] in ['1Fam', '2fmCon']:\n",
    "        type_ = 'Family Home'\n",
    "    else:\n",
    "        type_ = 'Multi-Unit'\n",
    "\n",
    "    if row['HouseStyle'] in ['1Story', '1.5Fin', '2Story']:\n",
    "        style_ = '1Story'\n",
    "    elif row['HouseStyle'] in ['2Story', '2.5Fin', '2.5Unf']:\n",
    "        style_ = '2Story'\n",
    "    else:\n",
    "        style_ = 'Other'\n",
    "\n",
    "    return f\"{era} {type_} {style_}\"\n",
    "\n",
    "# Apply categorization\n",
    "df['house_category'] = df.apply(categorize, axis=1)\n"
   ]
  },
  {
   "cell_type": "code",
   "execution_count": 11,
   "metadata": {},
   "outputs": [
    {
     "data": {
      "image/png": "[encoded data removed]",
      "text/plain": [
       "<Figure size 640x480 with 1 Axes>"
      ]
     },
     "metadata": {},
     "output_type": "display_data"
    }
   ],
   "source": [
    "#plot house category\n",
    "plt.figure()\n",
    "df['house_category'].value_counts().plot.bar()\n",
    "plt.title('house_category')\n",
    "plt.show()\n",
    "\n"
   ]
  },
  {
   "cell_type": "code",
   "execution_count": 12,
   "metadata": {},
   "outputs": [
    {
     "name": "stdout",
     "output_type": "stream",
     "text": [
      "Index(['Id', 'MSSubClass', 'MSZoning', 'LotFrontage', 'LotArea', 'Street',\n",
      "       'LotShape', 'LandContour', 'Utilities', 'LotConfig', 'LandSlope',\n",
      "       'Neighborhood', 'Condition1', 'Condition2', 'BldgType', 'HouseStyle',\n",
      "       'OverallQual', 'OverallCond', 'YearBuilt', 'YearRemodAdd', 'RoofStyle',\n",
      "       'RoofMatl', 'Exterior1st', 'Exterior2nd', 'MasVnrArea', 'ExterQual',\n",
      "       'ExterCond', 'Foundation', 'BsmtQual', 'BsmtCond', 'BsmtExposure',\n",
      "       'BsmtFinType1', 'BsmtFinSF1', 'BsmtFinType2', 'BsmtFinSF2', 'BsmtUnfSF',\n",
      "       'TotalBsmtSF', 'Heating', 'HeatingQC', 'CentralAir', 'Electrical',\n",
      "       '1stFlrSF', '2ndFlrSF', 'LowQualFinSF', 'GrLivArea', 'BsmtFullBath',\n",
      "       'BsmtHalfBath', 'FullBath', 'HalfBath', 'BedroomAbvGr', 'KitchenAbvGr',\n",
      "       'KitchenQual', 'TotRmsAbvGrd', 'Functional', 'Fireplaces', 'GarageType',\n",
      "       'GarageYrBlt', 'GarageFinish', 'GarageCars', 'GarageArea', 'GarageQual',\n",
      "       'GarageCond', 'PavedDrive', 'WoodDeckSF', 'OpenPorchSF',\n",
      "       'EnclosedPorch', '3SsnPorch', 'ScreenPorch', 'PoolArea', 'MiscVal',\n",
      "       'MoSold', 'YrSold', 'SaleType', 'SaleCondition', 'SalePrice',\n",
      "       'house_category'],\n",
      "      dtype='object')\n"
     ]
    }
   ],
   "source": [
    "#print all cols\n",
    "print(df.columns)"
   ]
  },
  {
   "cell_type": "code",
   "execution_count": 13,
   "metadata": {},
   "outputs": [],
   "source": [
    "#drop ID col\n",
    "df = df.drop(\"Id\", axis=1)\n"
   ]
  },
  {
   "cell_type": "code",
   "execution_count": 14,
   "metadata": {},
   "outputs": [
    {
     "name": "stdout",
     "output_type": "stream",
     "text": [
      "MSSubClass int64\n",
      "MSZoning object\n",
      "LotFrontage float64\n",
      "LotArea int64\n",
      "Street object\n",
      "LotShape object\n",
      "LandContour object\n",
      "Utilities object\n",
      "LotConfig object\n",
      "LandSlope object\n",
      "Neighborhood object\n",
      "Condition1 object\n",
      "Condition2 object\n",
      "BldgType object\n",
      "HouseStyle object\n",
      "OverallQual int64\n",
      "OverallCond int64\n",
      "YearBuilt int64\n",
      "YearRemodAdd int64\n",
      "RoofStyle object\n",
      "RoofMatl object\n",
      "Exterior1st object\n",
      "Exterior2nd object\n",
      "MasVnrArea float64\n",
      "ExterQual object\n",
      "ExterCond object\n",
      "Foundation object\n",
      "BsmtQual object\n",
      "BsmtCond object\n",
      "BsmtExposure object\n",
      "BsmtFinType1 object\n",
      "BsmtFinSF1 int64\n",
      "BsmtFinType2 object\n",
      "BsmtFinSF2 int64\n",
      "BsmtUnfSF int64\n",
      "TotalBsmtSF int64\n",
      "Heating object\n",
      "HeatingQC object\n",
      "CentralAir object\n",
      "Electrical object\n",
      "1stFlrSF int64\n",
      "2ndFlrSF int64\n",
      "LowQualFinSF int64\n",
      "GrLivArea int64\n",
      "BsmtFullBath int64\n",
      "BsmtHalfBath int64\n",
      "FullBath int64\n",
      "HalfBath int64\n",
      "BedroomAbvGr int64\n",
      "KitchenAbvGr int64\n",
      "KitchenQual object\n",
      "TotRmsAbvGrd int64\n",
      "Functional object\n",
      "Fireplaces int64\n",
      "GarageType object\n",
      "GarageYrBlt float64\n",
      "GarageFinish object\n",
      "GarageCars int64\n",
      "GarageArea int64\n",
      "GarageQual object\n",
      "GarageCond object\n",
      "PavedDrive object\n",
      "WoodDeckSF int64\n",
      "OpenPorchSF int64\n",
      "EnclosedPorch int64\n",
      "3SsnPorch int64\n",
      "ScreenPorch int64\n",
      "PoolArea int64\n",
      "MiscVal int64\n",
      "MoSold int64\n",
      "YrSold int64\n",
      "SaleType object\n",
      "SaleCondition object\n",
      "SalePrice int64\n",
      "house_category object\n"
     ]
    }
   ],
   "source": [
    "#print cols datatypes\n",
    "for col in df.columns:\n",
    "    print(col, df[col].dtype)"
   ]
  },
  {
   "cell_type": "markdown",
   "metadata": {},
   "source": [
    "Separate the input features (X) from the target variables (Y):\n"
   ]
  },
  {
   "cell_type": "code",
   "execution_count": 15,
   "metadata": {},
   "outputs": [],
   "source": [
    "X = df.drop(['SalePrice', 'house_category'], axis=1)\n",
    "y_price = df['SalePrice']\n",
    "y_category = df['house_category']"
   ]
  },
  {
   "cell_type": "code",
   "execution_count": 16,
   "metadata": {},
   "outputs": [
    {
     "name": "stdout",
     "output_type": "stream",
     "text": [
      "0       208500\n",
      "1       181500\n",
      "2       223500\n",
      "3       140000\n",
      "4       250000\n",
      "         ...  \n",
      "1455    175000\n",
      "1456    210000\n",
      "1457    266500\n",
      "1458    142125\n",
      "1459    147500\n",
      "Name: SalePrice, Length: 1460, dtype: int64\n"
     ]
    }
   ],
   "source": [
    "#y_category datatype\n",
    "print(y_price)\n",
    "\n"
   ]
  },
  {
   "cell_type": "markdown",
   "metadata": {},
   "source": [
    "Perform any necessary data preprocessing, such as handling missing values, encoding categorical variables, and scaling numerical features. You can use techniques like imputation, one-hot encoding, and normalization/standardization."
   ]
  },
  {
   "cell_type": "code",
   "execution_count": 17,
   "metadata": {},
   "outputs": [
    {
     "name": "stdout",
     "output_type": "stream",
     "text": [
      "0    10\n",
      "1     4\n",
      "2    10\n",
      "3     0\n",
      "4    10\n",
      "5    10\n",
      "6    10\n",
      "7     4\n",
      "8     0\n",
      "9     2\n",
      "dtype: int8\n",
      "int8\n"
     ]
    },
    {
     "data": {
      "image/png": "[encoded data removed]",
      "text/plain": [
       "<Figure size 640x480 with 1 Axes>"
      ]
     },
     "metadata": {},
     "output_type": "display_data"
    }
   ],
   "source": [
    "#integer encoding y_category\n",
    "y_category = y_category.astype('category')\n",
    "y_category = y_category.cat.codes\n",
    "\n",
    "#print head\n",
    "print(y_category.head(10))\n",
    "\n",
    "#y_category datatype\n",
    "print(y_category.dtype)\n",
    "\n",
    "#plot y_category value counts\n",
    "plt.figure()\n",
    "y_category.value_counts().plot.bar()\n",
    "plt.title(\"y_category\")\n",
    "plt.show()"
   ]
  },
  {
   "cell_type": "code",
   "execution_count": 18,
   "metadata": {},
   "outputs": [
    {
     "name": "stdout",
     "output_type": "stream",
     "text": [
      "bool       193\n",
      "int64       33\n",
      "float64      3\n",
      "Name: count, dtype: int64\n",
      "-----------------\n",
      " after conversion\n",
      "-----------------\n",
      "float64    229\n",
      "Name: count, dtype: int64\n"
     ]
    }
   ],
   "source": [
    "#one hot encoding for X\n",
    "X = pd.get_dummies(X, drop_first=True)\n",
    "#print cols datatypes\n",
    "print(X.dtypes.value_counts())\n",
    "print(\"-----------------\\n after conversion\\n-----------------\")\n",
    "#convert to float64\n",
    "for col in X.columns:\n",
    "    X[col] = X[col].astype('float64')\n",
    "\n",
    "print(X.dtypes.value_counts())\n",
    "\n"
   ]
  },
  {
   "cell_type": "code",
   "execution_count": 19,
   "metadata": {},
   "outputs": [
    {
     "data": {
      "text/plain": [
       "(1460, 229)"
      ]
     },
     "execution_count": 19,
     "metadata": {},
     "output_type": "execute_result"
    }
   ],
   "source": [
    "X.shape"
   ]
  },
  {
   "cell_type": "markdown",
   "metadata": {},
   "source": [
    "Split the data into training and testing sets:\n"
   ]
  },
  {
   "cell_type": "code",
   "execution_count": 20,
   "metadata": {},
   "outputs": [],
   "source": [
    "from sklearn.model_selection import train_test_split\n",
    "\n",
    "X_train, X_test, y_price_train, y_price_test, y_category_train, y_category_test = train_test_split(\n",
    "    X, y_price, y_category, test_size=0.2, random_state=42\n",
    ")"
   ]
  },
  {
   "cell_type": "markdown",
   "metadata": {},
   "source": [
    "Further split the training data into training and validation sets:\n"
   ]
  },
  {
   "cell_type": "code",
   "execution_count": 21,
   "metadata": {},
   "outputs": [],
   "source": [
    "X_train, X_val, y_price_train, y_price_val, y_category_train, y_category_val = train_test_split(\n",
    "    X_train, y_price_train, y_category_train, test_size=0.2, random_state=42\n",
    ")"
   ]
  },
  {
   "cell_type": "markdown",
   "metadata": {},
   "source": [
    "Create PyTorch datasets and data loaders for training, validation, and testing:"
   ]
  },
  {
   "cell_type": "code",
   "execution_count": 22,
   "metadata": {},
   "outputs": [
    {
     "ename": "",
     "evalue": "",
     "output_type": "error",
     "traceback": [
      "\u001b[1;31mThe Kernel crashed while executing code in the current cell or a previous cell. \n",
      "\u001b[1;31mPlease review the code in the cell(s) to identify a possible cause of the failure. \n",
      "\u001b[1;31mClick <a href='https://aka.ms/vscodeJupyterKernelCrash'>here</a> for more info. \n",
      "\u001b[1;31mView Jupyter <a href='command:jupyter.viewOutput'>log</a> for further details."
     ]
    }
   ],
   "source": [
    "import torch\n",
    "from torch.utils.data import TensorDataset, DataLoader\n",
    "\n",
    "# Create PyTorch datasets\n",
    "train_dataset = TensorDataset(torch.tensor(X_train.values, dtype=torch.float32),\n",
    "                              torch.tensor(y_price_train.values, dtype=torch.float32),\n",
    "                              torch.tensor(y_category_train.values, dtype=torch.long))\n",
    "\n",
    "val_dataset = TensorDataset(torch.tensor(X_val.values, dtype=torch.float32),\n",
    "                            torch.tensor(y_price_val.values, dtype=torch.float32),\n",
    "                            torch.tensor(y_category_val.values, dtype=torch.long))\n",
    "\n",
    "test_dataset = TensorDataset(torch.tensor(X_test.values, dtype=torch.float32),\n",
    "                             torch.tensor(y_price_test.values, dtype=torch.float32),\n",
    "                             torch.tensor(y_category_test.values, dtype=torch.long))\n",
    "\n",
    "# Create data loaders\n",
    "train_loader = DataLoader(train_dataset, batch_size=32, shuffle=True)\n",
    "val_loader = DataLoader(val_dataset, batch_size=32, shuffle=False)\n",
    "test_loader = DataLoader(test_dataset, batch_size=32, shuffle=False)\n",
    "\n"
   ]
  },
  {
   "cell_type": "code",
   "execution_count": null,
   "metadata": {},
   "outputs": [
    {
     "name": "stdout",
     "output_type": "stream",
     "text": [
      "232 17\n"
     ]
    }
   ],
   "source": [
    "input_size = X_train.shape[1]\n",
    "num_classes = len(y_category.unique())\n",
    "print(input_size, num_classes)"
   ]
  },
  {
   "cell_type": "markdown",
   "metadata": {},
   "source": [
    "Define your PyTorch Lightning model with shared layers and task-specific heads for 'SalePrice' and 'category' prediction,"
   ]
  },
  {
   "cell_type": "code",
   "execution_count": null,
   "metadata": {},
   "outputs": [],
   "source": [
    "import torch.nn as nn\n",
    "import pytorch_lightning as pl\n",
    "from pytorch_lightning.loggers import TensorBoardLogger\n",
    "\n",
    "class HousingModel(pl.LightningModule):\n",
    "    def __init__(self, input_size, hidden_size1, hidden_size2, num_classes):\n",
    "        super().__init__()\n",
    "        self.hidden_layer1 = nn.Linear(input_size, hidden_size1)\n",
    "        self.batch_norm1 = nn.BatchNorm1d(hidden_size1)  # BatchNorm for the first hidden layer\n",
    "        # self.layer_norm1 = nn.LayerNorm(hidden_size1)  # LayerNorm for the first hidden layer\n",
    "        self.hidden_layer2 = nn.Linear(hidden_size1, hidden_size2)\n",
    "        self.batch_norm2 = nn.BatchNorm1d(hidden_size2)  # BatchNorm for the second hidden layer\n",
    "        # self.layer_norm2 = nn.LayerNorm(hidden_size2)  # LayerNorm for the second hidden layer\n",
    "        self.price_layer = nn.Linear(hidden_size2, 1)  # Regression output\n",
    "        self.category_layer = nn.Linear(hidden_size2, num_classes)  # Classification output\n",
    "\n",
    "        self.w_loss = 0.1\n",
    "        self.w_acc = 1-self.w_loss\n",
    "\n",
    "        # Initialize weights\n",
    "        self._init_weights()\n",
    "\n",
    "    def _init_weights(self):\n",
    "        # Kaiming (He) initialization for layers with ReLU activation\n",
    "        nn.init.kaiming_normal_(self.hidden_layer1.weight, mode='fan_out', nonlinearity='relu')\n",
    "        nn.init.kaiming_normal_(self.hidden_layer2.weight, mode='fan_out', nonlinearity='relu')\n",
    "        # For the output layers, you might use a simpler initialization since they might not be followed by ReLU\n",
    "        nn.init.xavier_normal_(self.price_layer.weight)\n",
    "        nn.init.xavier_normal_(self.category_layer.weight)\n",
    "\n",
    "        \n",
    "    def forward(self, x):\n",
    "        x = self.hidden_layer1(x)\n",
    "        x = self.batch_norm1(x)  # Apply BatchNorm after first linear layer\n",
    "        # x = self.layer_norm1(x)  # Apply LayerNorm after BatchNorm\n",
    "        x = torch.relu(x)\n",
    "        \n",
    "        x = self.hidden_layer2(x)\n",
    "        x = self.batch_norm2(x)  # Apply BatchNorm after second linear layer\n",
    "        # x = self.layer_norm2(x)  # Apply LayerNorm after BatchNorm\n",
    "        x = torch.relu(x)\n",
    "        \n",
    "        price = self.price_layer(x)\n",
    "        category = self.category_layer(x)\n",
    "        return price, category\n",
    "    \n",
    "    def training_step(self, batch, batch_idx):\n",
    "        x, y_price, y_category = batch\n",
    "        price_pred, category_pred = self(x)\n",
    "        \n",
    "        price_loss = nn.MSELoss()(price_pred, y_price.view(-1, 1))\n",
    "        category_loss = nn.CrossEntropyLoss()(category_pred, y_category)\n",
    "        \n",
    "        loss = self.w_loss * price_loss + self.w_acc * category_loss\n",
    "        self.log('train_loss', loss)\n",
    "        return loss\n",
    "    \n",
    "\n",
    "    \n",
    "    def validation_step(self, batch, batch_idx):\n",
    "        x, y_price, y_category = batch\n",
    "        price_pred, category_pred = self(x)\n",
    "        \n",
    "        price_loss = nn.MSELoss()(price_pred, y_price.view(-1, 1))\n",
    "        category_loss = nn.CrossEntropyLoss()(category_pred, y_category)\n",
    "\n",
    "        loss = self.w_loss * price_loss + self.w_acc * category_loss\n",
    "\n",
    "        accuracy = accuracy_score(y_category.cpu().numpy(), category_pred.argmax(dim=1).cpu().numpy(), normalize=True)\n",
    "        precision = precision_score(y_category.cpu().numpy(), category_pred.argmax(dim=1).cpu().numpy(), average='weighted', zero_division=1)\n",
    "        recall = recall_score(y_category.cpu().numpy(), category_pred.argmax(dim=1).cpu().numpy(), average='weighted', zero_division=1)\n",
    "        f1 = f1_score(y_category.cpu().numpy(), category_pred.argmax(dim=1).cpu().numpy(), average='weighted', zero_division=1)\n",
    "\n",
    "   \n",
    "\n",
    "        self.log('val_loss', loss)\n",
    "        self.log('val_accuracy', accuracy)\n",
    "        self.log('val_precision', precision)\n",
    "        self.log('val_recall', recall)\n",
    "        self.log('val_f1', f1)\n",
    "        self.log('val_price_loss', price_loss)\n",
    "        self.log('val_category_loss', category_loss)\n",
    "    \n",
    "    def test_step(self, batch, batch_idx):\n",
    "        x, y_price, y_category = batch\n",
    "        price_pred, category_pred = self(x)\n",
    "        \n",
    "        price_loss = nn.MSELoss()(price_pred, y_price.view(-1, 1))\n",
    "        category_loss = nn.CrossEntropyLoss()(category_pred, y_category)\n",
    "\n",
    "        loss = self.w_loss * price_loss + self.w_acc * category_loss\n",
    "\n",
    "        accuracy = accuracy_score(y_category.cpu().numpy(), category_pred.argmax(dim=1).cpu().numpy(), normalize=True)\n",
    "        precision = precision_score(y_category.cpu().numpy(), category_pred.argmax(dim=1).cpu().numpy(), average='weighted', zero_division=1)\n",
    "        recall = recall_score(y_category.cpu().numpy(), category_pred.argmax(dim=1).cpu().numpy(), average='weighted', zero_division=1)\n",
    "        f1 = f1_score(y_category.cpu().numpy(), category_pred.argmax(dim=1).cpu().numpy(), average='weighted', zero_division=1)\n",
    "        \n",
    "        self.log('test_loss', loss)\n",
    "        self.log('test_price_loss', price_loss)\n",
    "        self.log('test_category_loss', category_loss)\n",
    "        self.log('test_accuracy', accuracy)\n",
    "        self.log('test_precision', precision)\n",
    "        self.log('test_recall', recall)\n",
    "        self.log('test_f1', f1)\n",
    "\n",
    "    \n",
    "    def configure_optimizers(self):\n",
    "        return torch.optim.Adam(self.parameters(), lr=0.1)\n",
    "\n"
   ]
  },
  {
   "cell_type": "code",
   "execution_count": null,
   "metadata": {},
   "outputs": [
    {
     "name": "stdout",
     "output_type": "stream",
     "text": [
      "Python 3.11.5\n"
     ]
    }
   ],
   "source": [
    "!python -V"
   ]
  },
  {
   "cell_type": "code",
   "execution_count": 319,
   "metadata": {},
   "outputs": [
    {
     "ename": "ModuleNotFoundError",
     "evalue": "Neither `tensorboard` nor `tensorboardX` is available. Try `pip install`ing either.\nDistributionNotFound: The 'tensorboardX' distribution was not found and is required by the application. HINT: Try running `pip install -U 'tensorboardX'`\nDistributionNotFound: The 'tensorboard' distribution was not found and is required by the application. HINT: Try running `pip install -U 'tensorboard'`",
     "output_type": "error",
     "traceback": [
      "\u001b[0;31m---------------------------------------------------------------------------\u001b[0m",
      "\u001b[0;31mModuleNotFoundError\u001b[0m                       Traceback (most recent call last)",
      "Cell \u001b[0;32mIn[319], line 2\u001b[0m\n\u001b[1;32m      1\u001b[0m \u001b[38;5;66;03m# Initialize TensorBoardLogger\u001b[39;00m\n\u001b[0;32m----> 2\u001b[0m logger \u001b[38;5;241m=\u001b[39m \u001b[43mTensorBoardLogger\u001b[49m\u001b[43m(\u001b[49m\u001b[38;5;124;43m\"\u001b[39;49m\u001b[38;5;124;43mtb_logs\u001b[39;49m\u001b[38;5;124;43m\"\u001b[39;49m\u001b[43m,\u001b[49m\u001b[43m \u001b[49m\u001b[43mname\u001b[49m\u001b[38;5;241;43m=\u001b[39;49m\u001b[38;5;124;43m\"\u001b[39;49m\u001b[38;5;124;43mmy_model\u001b[39;49m\u001b[38;5;124;43m\"\u001b[39;49m\u001b[43m)\u001b[49m\n\u001b[1;32m      4\u001b[0m \u001b[38;5;66;03m# Train the model using the Trainer from PyTorch Lightning\u001b[39;00m\n\u001b[1;32m      5\u001b[0m input_size \u001b[38;5;241m=\u001b[39m X_train\u001b[38;5;241m.\u001b[39mshape[\u001b[38;5;241m1\u001b[39m]\n",
      "File \u001b[0;32m~/.pyenv/versions/3.10.13/lib/python3.10/site-packages/pytorch_lightning/loggers/tensorboard.py:99\u001b[0m, in \u001b[0;36mTensorBoardLogger.__init__\u001b[0;34m(self, save_dir, name, version, log_graph, default_hp_metric, prefix, sub_dir, **kwargs)\u001b[0m\n\u001b[1;32m     88\u001b[0m \u001b[38;5;28;01mdef\u001b[39;00m \u001b[38;5;21m__init__\u001b[39m(\n\u001b[1;32m     89\u001b[0m     \u001b[38;5;28mself\u001b[39m,\n\u001b[1;32m     90\u001b[0m     save_dir: _PATH,\n\u001b[0;32m   (...)\u001b[0m\n\u001b[1;32m     97\u001b[0m     \u001b[38;5;241m*\u001b[39m\u001b[38;5;241m*\u001b[39mkwargs: Any,\n\u001b[1;32m     98\u001b[0m ):\n\u001b[0;32m---> 99\u001b[0m     \u001b[38;5;28;43msuper\u001b[39;49m\u001b[43m(\u001b[49m\u001b[43m)\u001b[49m\u001b[38;5;241;43m.\u001b[39;49m\u001b[38;5;21;43m__init__\u001b[39;49m\u001b[43m(\u001b[49m\n\u001b[1;32m    100\u001b[0m \u001b[43m        \u001b[49m\u001b[43mroot_dir\u001b[49m\u001b[38;5;241;43m=\u001b[39;49m\u001b[43msave_dir\u001b[49m\u001b[43m,\u001b[49m\n\u001b[1;32m    101\u001b[0m \u001b[43m        \u001b[49m\u001b[43mname\u001b[49m\u001b[38;5;241;43m=\u001b[39;49m\u001b[43mname\u001b[49m\u001b[43m,\u001b[49m\n\u001b[1;32m    102\u001b[0m \u001b[43m        \u001b[49m\u001b[43mversion\u001b[49m\u001b[38;5;241;43m=\u001b[39;49m\u001b[43mversion\u001b[49m\u001b[43m,\u001b[49m\n\u001b[1;32m    103\u001b[0m \u001b[43m        \u001b[49m\u001b[43mdefault_hp_metric\u001b[49m\u001b[38;5;241;43m=\u001b[39;49m\u001b[43mdefault_hp_metric\u001b[49m\u001b[43m,\u001b[49m\n\u001b[1;32m    104\u001b[0m \u001b[43m        \u001b[49m\u001b[43mprefix\u001b[49m\u001b[38;5;241;43m=\u001b[39;49m\u001b[43mprefix\u001b[49m\u001b[43m,\u001b[49m\n\u001b[1;32m    105\u001b[0m \u001b[43m        \u001b[49m\u001b[43msub_dir\u001b[49m\u001b[38;5;241;43m=\u001b[39;49m\u001b[43msub_dir\u001b[49m\u001b[43m,\u001b[49m\n\u001b[1;32m    106\u001b[0m \u001b[43m        \u001b[49m\u001b[38;5;241;43m*\u001b[39;49m\u001b[38;5;241;43m*\u001b[39;49m\u001b[43mkwargs\u001b[49m\u001b[43m,\u001b[49m\n\u001b[1;32m    107\u001b[0m \u001b[43m    \u001b[49m\u001b[43m)\u001b[49m\n\u001b[1;32m    108\u001b[0m     \u001b[38;5;28;01mif\u001b[39;00m log_graph \u001b[38;5;129;01mand\u001b[39;00m \u001b[38;5;129;01mnot\u001b[39;00m _TENSORBOARD_AVAILABLE:\n\u001b[1;32m    109\u001b[0m         rank_zero_warn(\n\u001b[1;32m    110\u001b[0m             \u001b[38;5;124m\"\u001b[39m\u001b[38;5;124mYou set `TensorBoardLogger(log_graph=True)` but `tensorboard` is not available.\u001b[39m\u001b[38;5;130;01m\\n\u001b[39;00m\u001b[38;5;124m\"\u001b[39m\n\u001b[1;32m    111\u001b[0m             \u001b[38;5;124mf\u001b[39m\u001b[38;5;124m\"\u001b[39m\u001b[38;5;132;01m{\u001b[39;00m\u001b[38;5;28mstr\u001b[39m(_TENSORBOARD_AVAILABLE)\u001b[38;5;132;01m}\u001b[39;00m\u001b[38;5;124m\"\u001b[39m\n\u001b[1;32m    112\u001b[0m         )\n",
      "File \u001b[0;32m~/.pyenv/versions/3.10.13/lib/python3.10/site-packages/lightning_fabric/loggers/tensorboard.py:95\u001b[0m, in \u001b[0;36mTensorBoardLogger.__init__\u001b[0;34m(self, root_dir, name, version, default_hp_metric, prefix, sub_dir, **kwargs)\u001b[0m\n\u001b[1;32m     84\u001b[0m \u001b[38;5;28;01mdef\u001b[39;00m \u001b[38;5;21m__init__\u001b[39m(\n\u001b[1;32m     85\u001b[0m     \u001b[38;5;28mself\u001b[39m,\n\u001b[1;32m     86\u001b[0m     root_dir: _PATH,\n\u001b[0;32m   (...)\u001b[0m\n\u001b[1;32m     92\u001b[0m     \u001b[38;5;241m*\u001b[39m\u001b[38;5;241m*\u001b[39mkwargs: Any,\n\u001b[1;32m     93\u001b[0m ):\n\u001b[1;32m     94\u001b[0m     \u001b[38;5;28;01mif\u001b[39;00m \u001b[38;5;129;01mnot\u001b[39;00m _TENSORBOARD_AVAILABLE \u001b[38;5;129;01mand\u001b[39;00m \u001b[38;5;129;01mnot\u001b[39;00m _TENSORBOARDX_AVAILABLE:\n\u001b[0;32m---> 95\u001b[0m         \u001b[38;5;28;01mraise\u001b[39;00m \u001b[38;5;167;01mModuleNotFoundError\u001b[39;00m(\n\u001b[1;32m     96\u001b[0m             \u001b[38;5;124m\"\u001b[39m\u001b[38;5;124mNeither `tensorboard` nor `tensorboardX` is available. Try `pip install`ing either.\u001b[39m\u001b[38;5;130;01m\\n\u001b[39;00m\u001b[38;5;124m\"\u001b[39m\n\u001b[1;32m     97\u001b[0m             \u001b[38;5;124mf\u001b[39m\u001b[38;5;124m\"\u001b[39m\u001b[38;5;132;01m{\u001b[39;00m\u001b[38;5;28mstr\u001b[39m(_TENSORBOARDX_AVAILABLE)\u001b[38;5;132;01m}\u001b[39;00m\u001b[38;5;130;01m\\n\u001b[39;00m\u001b[38;5;132;01m{\u001b[39;00m\u001b[38;5;28mstr\u001b[39m(_TENSORBOARD_AVAILABLE)\u001b[38;5;132;01m}\u001b[39;00m\u001b[38;5;124m\"\u001b[39m\n\u001b[1;32m     98\u001b[0m         )\n\u001b[1;32m     99\u001b[0m     \u001b[38;5;28msuper\u001b[39m()\u001b[38;5;241m.\u001b[39m\u001b[38;5;21m__init__\u001b[39m()\n\u001b[1;32m    100\u001b[0m     root_dir \u001b[38;5;241m=\u001b[39m os\u001b[38;5;241m.\u001b[39mfspath(root_dir)\n",
      "\u001b[0;31mModuleNotFoundError\u001b[0m: Neither `tensorboard` nor `tensorboardX` is available. Try `pip install`ing either.\nDistributionNotFound: The 'tensorboardX' distribution was not found and is required by the application. HINT: Try running `pip install -U 'tensorboardX'`\nDistributionNotFound: The 'tensorboard' distribution was not found and is required by the application. HINT: Try running `pip install -U 'tensorboard'`"
     ]
    }
   ],
   "source": [
    "# Initialize TensorBoardLogger\n",
    "logger = TensorBoardLogger(\"tb_logs\", name=\"my_model\")\n",
    "\n",
    "# Train the model using the Trainer from PyTorch Lightning\n",
    "input_size = X_train.shape[1]\n",
    "num_classes = len(y_category.unique())\n",
    "\n",
    "model = HousingModel(input_size=input_size, hidden_size1=512, hidden_size2=512, num_classes=num_classes)\n",
    "\n",
    "trainer = pl.Trainer(max_epochs=20, enable_progress_bar=True, logger=logger)\n",
    "trainer.fit(model, train_loader, val_loader)\n",
    "\n",
    "#tensorboard --logdir=tb_logs"
   ]
  },
  {
   "cell_type": "markdown",
   "metadata": {},
   "source": [
    "Evaluate the trained model on the test set:"
   ]
  },
  {
   "cell_type": "code",
   "execution_count": 280,
   "metadata": {},
   "outputs": [
    {
     "name": "stderr",
     "output_type": "stream",
     "text": [
      "/Users/krishan/.pyenv/versions/3.10.13/lib/python3.10/site-packages/pytorch_lightning/trainer/connectors/data_connector.py:441: The 'val_dataloader' does not have many workers which may be a bottleneck. Consider increasing the value of the `num_workers` argument` to `num_workers=9` in the `DataLoader` to improve performance.\n"
     ]
    },
    {
     "data": {
      "application/vnd.jupyter.widget-view+json": {
       "model_id": "88cb6dcd6679408586048f44f89b7d8f",
       "version_major": 2,
       "version_minor": 0
      },
      "text/plain": [
       "Validation: |          | 0/? [00:00<?, ?it/s]"
      ]
     },
     "metadata": {},
     "output_type": "display_data"
    },
    {
     "name": "stdout",
     "output_type": "stream",
     "text": [
      "────────────────────────────────────────────────────────────────────────────────────────────────────────────────────────\n",
      "     Validate metric           DataLoader 0\n",
      "────────────────────────────────────────────────────────────────────────────────────────────────────────────────────────\n",
      "      val_accuracy          0.5128205418586731\n",
      "    val_category_loss         233.31884765625\n",
      "         val_f1             0.48709389567375183\n",
      "        val_loss                146000528.0\n",
      "      val_precision         0.7564496397972107\n",
      "     val_price_loss            1460003200.0\n",
      "       val_recall           0.5128205418586731\n",
      "────────────────────────────────────────────────────────────────────────────────────────────────────────────────────────\n",
      "RMSE Price Val: 38209.99\n",
      "Accuracy: 51.28\n"
     ]
    }
   ],
   "source": [
    "trainer.validate(model, val_loader)\n",
    "\n",
    "#RMSE of val_price_loss\n",
    "rmse = np.sqrt(trainer.logged_metrics['val_price_loss'])\n",
    "print(f'RMSE Price Val: {rmse:.2f}')\n",
    "\n",
    "#Accuracy of val_category_loss\n",
    "accuracy = trainer.logged_metrics['val_accuracy']\n",
    "print(f'Accuracy: {accuracy*100:.2f}')\n"
   ]
  },
  {
   "cell_type": "code",
   "execution_count": 277,
   "metadata": {},
   "outputs": [
    {
     "name": "stderr",
     "output_type": "stream",
     "text": [
      "/Users/krishan/.pyenv/versions/3.10.13/lib/python3.10/site-packages/pytorch_lightning/trainer/connectors/data_connector.py:441: The 'test_dataloader' does not have many workers which may be a bottleneck. Consider increasing the value of the `num_workers` argument` to `num_workers=9` in the `DataLoader` to improve performance.\n"
     ]
    },
    {
     "data": {
      "application/vnd.jupyter.widget-view+json": {
       "model_id": "43d4479858a3431d89918935497b7206",
       "version_major": 2,
       "version_minor": 0
      },
      "text/plain": [
       "Testing: |          | 0/? [00:00<?, ?it/s]"
      ]
     },
     "metadata": {},
     "output_type": "display_data"
    },
    {
     "name": "stdout",
     "output_type": "stream",
     "text": [
      "────────────────────────────────────────────────────────────────────────────────────────────────────────────────────────\n",
      "       Test metric             DataLoader 0\n",
      "────────────────────────────────────────────────────────────────────────────────────────────────────────────────────────\n",
      "      test_accuracy          0.232876718044281\n",
      "   test_category_loss        175.4313507080078\n",
      "         test_f1            0.19933286309242249\n",
      "        test_loss               204949648.0\n",
      "     test_precision         0.6470465660095215\n",
      "     test_price_loss           2049495168.0\n",
      "       test_recall           0.232876718044281\n",
      "────────────────────────────────────────────────────────────────────────────────────────────────────────────────────────\n",
      "RMSE Price Test: 45271.35\n",
      "Accuracy: 23.29\n"
     ]
    }
   ],
   "source": [
    "trainer.test(model, test_loader)\n",
    "\n",
    "#RMSE of test_price_loss\n",
    "rmse = np.sqrt(trainer.logged_metrics['test_price_loss'])\n",
    "print(f'RMSE Price Test: {rmse:.2f}')\n",
    "\n",
    "#Accuracy of test_category_loss\n",
    "accuracy = trainer.logged_metrics['test_accuracy']\n",
    "print(f'Accuracy: {accuracy*100:.2f}')"
   ]
  }
 ],
 "metadata": {
  "kernelspec": {
   "display_name": "Python 3",
   "language": "python",
   "name": "python3"
  },
  "language_info": {
   "codemirror_mode": {
    "name": "ipython",
    "version": 3
   },
   "file_extension": ".py",
   "mimetype": "text/x-python",
   "name": "python",
   "nbconvert_exporter": "python",
   "pygments_lexer": "ipython3",
   "version": "3.11.5"
  }
 },
 "nbformat": 4,
 "nbformat_minor": 2
}
